{
  "nbformat": 4,
  "nbformat_minor": 0,
  "metadata": {
    "colab": {
      "provenance": [],
      "authorship_tag": "ABX9TyNX9bB2I+oS7YyUKlk/XXj1",
      "include_colab_link": true
    },
    "kernelspec": {
      "name": "python3",
      "display_name": "Python 3"
    },
    "language_info": {
      "name": "python"
    }
  },
  "cells": [
    {
      "cell_type": "markdown",
      "metadata": {
        "id": "view-in-github",
        "colab_type": "text"
      },
      "source": [
        "<a href=\"https://colab.research.google.com/github/Shalabh0698/NeetCode/blob/main/Dataengineering.ipynb\" target=\"_parent\"><img src=\"https://colab.research.google.com/assets/colab-badge.svg\" alt=\"Open In Colab\"/></a>"
      ]
    },
    {
      "cell_type": "code",
      "execution_count": 1,
      "metadata": {
        "colab": {
          "base_uri": "https://localhost:8080/"
        },
        "id": "DrRyHcHbHOZU",
        "outputId": "aa6290d2-12b6-46ba-c676-3b5aaf47ccb6"
      },
      "outputs": [
        {
          "output_type": "stream",
          "name": "stdout",
          "text": [
            "Hello Data Engineering\n"
          ]
        }
      ],
      "source": [
        "print(\"Hello Data Engineering\")\n",
        "#"
      ]
    },
    {
      "cell_type": "code",
      "source": [
        "#Make string reverse\n",
        "str1 =\"Hello World!\"\n",
        "r_str1 = \"\"\n",
        "for i in range(len(str1)-1,-1,-1):\n",
        "  r_str1 += str1[i]\n",
        "print(r_str1)"
      ],
      "metadata": {
        "colab": {
          "base_uri": "https://localhost:8080/"
        },
        "id": "B2eCvHB9aEnJ",
        "outputId": "96be8360-dd5a-4476-9c7a-ad2be68d2365"
      },
      "execution_count": 3,
      "outputs": [
        {
          "output_type": "stream",
          "name": "stdout",
          "text": [
            "!dlroW olleH\n"
          ]
        }
      ]
    },
    {
      "cell_type": "code",
      "source": [
        "#Check for the Palindrome String. Remove all the Duplicates in a String\n",
        "\n",
        "str1 = \"ABbCccDddd\"\n",
        "for i in range(0,len(str1)):\n",
        ""
      ],
      "metadata": {
        "id": "6fkFFDX0bgbL"
      },
      "execution_count": null,
      "outputs": []
    }
  ]
}